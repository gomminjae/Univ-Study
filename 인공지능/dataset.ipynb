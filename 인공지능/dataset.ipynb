{
 "cells": [
  {
   "cell_type": "code",
   "execution_count": null,
   "metadata": {},
   "outputs": [],
   "source": [
    "import tensorflow.compat.v1 as tf \n",
    "import csv\n",
    "import numpy as np\n",
    "tf.disable_v2_behavior()"
   ]
  },
  {
   "cell_type": "code",
   "execution_count": null,
   "metadata": {},
   "outputs": [],
   "source": [
    "data = np.loadtxt('data-03-diabetes.csv', delimiter = ',', dtype = np.float32)\n",
    "print(data.shape)"
   ]
  },
  {
   "cell_type": "code",
   "execution_count": null,
   "metadata": {},
   "outputs": [],
   "source": [
    "xp = tf.placeholder(tf.float32, shape = [None,8])\n",
    "yp = tf.placeholder(tf.float32, shape = [None,1])\n",
    "y_onehot = tf.one_hot(tf.cast(yp, tf.int32), depth = 2)\n",
    "y_onehot = tf.reshape(y_onehot, shape = [-1,2])\n",
    "print(y_onehot)\n",
    "wv = tf.Variable(tf.random_normal([8,2]))\n",
    "#h = tf.matmul(xp, wv)\n",
    "w1 = tf.Variable(tf.random_normal([8,7]))\n",
    "x1 = tf.nn.relu(tf.matmul(xp, w1)) #Nx7\n",
    "w2 = tf.Variable(tf.random_normal([7,2]))\n",
    "h = tf.matmul(x1,w2)\n",
    "loss = tf.nn.softmax_cross_entropy_with_logits(labels = y_onehot, logits = h)\n",
    "loss = tf.reduce_mean(loss)\n",
    "train = tf.train.GradientDescentOptimizer(learning_rate = 0.01).minimize(loss)\n",
    "sess = tf.compat.v1.Session() \n",
    "sess.run(tf.global_variables_initializer())"
   ]
  },
  {
   "cell_type": "code",
   "execution_count": 9,
   "metadata": {},
   "outputs": [
    {
     "name": "stdout",
     "output_type": "stream",
     "text": [
      "epoch None loss 0.66158533\n",
      "epoch None loss 0.6459801\n",
      "epoch None loss 0.6373918\n",
      "epoch None loss 0.63166934\n",
      "epoch None loss 0.62390363\n",
      "epoch None loss 0.61798507\n",
      "epoch None loss 0.61287713\n",
      "epoch None loss 0.6083265\n",
      "epoch None loss 0.60415065\n",
      "epoch None loss 0.6005641\n"
     ]
    }
   ],
   "source": [
    "epoch_n = 10\n",
    "batch = 32\n",
    "sample_size = data.shape[0]\n",
    "for i in range(epoch_n):\n",
    "    np.random.shuffle(data)\n",
    "    for b in range(0,sample_size,batch):\n",
    "        e = b + batch\n",
    "        if e <= sample_size:\n",
    "            e = sample_size\n",
    "        sess.run(train, feed_dict = {xp:data[b:e,0:8], yp:data[b:e,8:]})    \n",
    "        #print(b,e)\n",
    "        \n",
    "        \n",
    "    epoch = sess.run(train, feed_dict = {xp:data[:,0:8] , yp:data[:,8:]})\n",
    "    aloss = sess.run(loss, feed_dict = {xp:data[:,0:8] , yp:data[:,8:]})\n",
    "    print('epoch', epoch, 'loss', aloss)\n",
    "    "
   ]
  }
 ],
 "metadata": {
  "kernelspec": {
   "display_name": "Python 3",
   "language": "python",
   "name": "python3"
  },
  "language_info": {
   "codemirror_mode": {
    "name": "ipython",
    "version": 3
   },
   "file_extension": ".py",
   "mimetype": "text/x-python",
   "name": "python",
   "nbconvert_exporter": "python",
   "pygments_lexer": "ipython3",
   "version": "3.7.7"
  }
 },
 "nbformat": 4,
 "nbformat_minor": 4
}
