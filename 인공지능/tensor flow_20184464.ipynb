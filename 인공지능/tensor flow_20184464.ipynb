{
 "cells": [
  {
   "cell_type": "code",
   "execution_count": 82,
   "metadata": {},
   "outputs": [
    {
     "name": "stdout",
     "output_type": "stream",
     "text": [
      "2.1.0\n"
     ]
    }
   ],
   "source": [
    "import tensorflow.compat.v1 as tf \n",
    "#tf.enable_eager_execution()\n",
    "tf.disable_v2_behavior()\n",
    "print(tf.__version__)\n",
    "tf.set_random_seed(0)"
   ]
  },
  {
   "cell_type": "code",
   "execution_count": 83,
   "metadata": {},
   "outputs": [],
   "source": [
    "import numpy as np"
   ]
  },
  {
   "cell_type": "code",
   "execution_count": 143,
   "metadata": {},
   "outputs": [
    {
     "name": "stdout",
     "output_type": "stream",
     "text": [
      "(4, 4)\n",
      "(4, 3)\n",
      "(4, 1)\n"
     ]
    }
   ],
   "source": [
    "data = np.array([[1,2,3,4], [1,1,3,0], [-1,-2,-4,2], [2,3,2,-3]])\n",
    "print(data.shape)\n",
    "x = data[:, 0:3] #0,1,2 input feature\n",
    "y = data[:, 3: ] #ground truth label\n",
    "print(x.shape)\n",
    "print(y.shape)\n",
    "\n",
    "xp = tf.placeholder(tf.float32, shape = [None, 3])\n",
    "yp = tf.placeholder(tf.float32, shape = [None, 1])\n",
    "w0 = tf.Variable(tf.random_normal([3,3]))\n",
    "x1 = tf.sigmoid(tf.matmul(xp, w0))\n",
    "\n",
    "w01 = tf.Variable(tf.random_normal([3,3]))\n",
    "x11 = tf.sigmoid(tf.matmul(x1, w0))\n",
    "\n",
    "w02 = tf.Variable(tf.random_normal([3,3]))\n",
    "x12 = tf.sigmoid(tf.matmul(x11, w0))\n",
    "\n",
    "w03 = tf.Variable(tf.random_normal([3,3]))\n",
    "x13 = tf.sigmoid(tf.matmul(x12, w0))\n",
    "\n",
    "\n",
    "w1 = tf.Variable(tf.random_normal([3, 1]) ) # h = x*w #(Nx1) = (Nx3) * (3 x 1)\n",
    "h = tf.matmul(x1,w1)# not same as tf.matmul(w1, xp)\n",
    "\n",
    "loss = tf.reduce_mean(tf.square(h - yp))\n",
    "train = tf.train.GradientDescentOptimizer(learning_rate = 0.01).minimize(loss)"
   ]
  },
  {
   "cell_type": "code",
   "execution_count": 144,
   "metadata": {},
   "outputs": [
    {
     "name": "stdout",
     "output_type": "stream",
     "text": [
      "yp [[ 4.]\n",
      " [ 0.]\n",
      " [ 2.]\n",
      " [-3.]]\n",
      "xp [[ 1.  2.  3.]\n",
      " [ 1.  1.  3.]\n",
      " [-1. -2. -4.]\n",
      " [ 2.  3.  2.]]\n",
      "x1 [[-2.2587762]\n",
      " [-2.1869473]\n",
      " [ 1.9905475]]\n",
      "h [[-1.877708 ]\n",
      " [-2.1959622]\n",
      " [-0.2692877]\n",
      " [-0.6156299]]\n",
      "loss 12.551147\n"
     ]
    }
   ],
   "source": [
    "tf.set_random_seed(0)\n",
    "sess = tf.Session()\n",
    "sess.run(tf.global_variables_initializer())\n",
    "print('yp',sess.run(yp, feed_dict={yp:y}))\n",
    "print('xp',sess.run(xp, feed_dict={xp:x}))\n",
    "print('x1',sess.run(w1))\n",
    "print('h',sess.run(h, feed_dict = {xp:x}))\n",
    "print('loss', sess.run(loss, feed_dict = {xp:x, yp:y}))"
   ]
  },
  {
   "cell_type": "code",
   "execution_count": 145,
   "metadata": {
    "scrolled": true
   },
   "outputs": [
    {
     "name": "stdout",
     "output_type": "stream",
     "text": [
      "0  loss:  12.551147\n",
      "100  loss:  5.617667\n",
      "200  loss:  4.7228026\n",
      "300  loss:  4.1340623\n",
      "400  loss:  3.5866199\n",
      "500  loss:  3.0360034\n",
      "600  loss:  2.481743\n",
      "700  loss:  1.951961\n",
      "800  loss:  1.4774961\n",
      "900  loss:  1.0791167\n",
      "1000  loss:  0.76484644\n",
      "1100  loss:  0.529992\n",
      "1200  loss:  0.36142367\n",
      "1300  loss:  0.24373722\n",
      "1400  loss:  0.16309625\n",
      "1500  loss:  0.10853919\n",
      "1600  loss:  0.07195311\n",
      "1700  loss:  0.04756724\n",
      "1800  loss:  0.03138279\n",
      "1900  loss:  0.020674989\n",
      "2000  loss:  0.013605903\n",
      "2100  loss:  0.008946659\n",
      "2200  loss:  0.0058794133\n",
      "2300  loss:  0.0038618871\n",
      "2400  loss:  0.0025358354\n",
      "2500  loss:  0.0016646814\n",
      "2600  loss:  0.00109253\n",
      "2700  loss:  0.000716919\n",
      "2800  loss:  0.0004703835\n",
      "2900  loss:  0.000308586\n",
      "3000  loss:  0.00020242663\n",
      "3100  loss:  0.00013278879\n",
      "3200  loss:  8.70974e-05\n",
      "3300  loss:  5.712603e-05\n",
      "3400  loss:  3.7474354e-05\n",
      "3500  loss:  2.4581019e-05\n",
      "3600  loss:  1.6125698e-05\n",
      "3700  loss:  1.0577559e-05\n",
      "3800  loss:  6.938384e-06\n",
      "3900  loss:  4.553217e-06\n",
      "4000  loss:  2.9890682e-06\n",
      "4100  loss:  1.9579252e-06\n",
      "4200  loss:  1.2862329e-06\n",
      "4300  loss:  8.4437687e-07\n",
      "4400  loss:  5.523631e-07\n",
      "4500  loss:  3.6534436e-07\n",
      "4600  loss:  2.3929658e-07\n",
      "4700  loss:  1.5919802e-07\n",
      "4800  loss:  1.0166612e-07\n",
      "4900  loss:  7.056096e-08\n"
     ]
    }
   ],
   "source": [
    "#print('train', sess.run(train, feed_dict = {xp:x, yp:y}))\n",
    "\n",
    "for i in range(5000):\n",
    "    feed = {xp:x, yp:y}\n",
    "    #print(sess.run(w1))\n",
    "    if i % 100 ==0:\n",
    "        print(i,\" loss: \", sess.run(loss, feed_dict = feed))\n",
    "    sess.run(train, feed_dict = feed)"
   ]
  },
  {
   "cell_type": "code",
   "execution_count": null,
   "metadata": {},
   "outputs": [],
   "source": []
  }
 ],
 "metadata": {
  "kernelspec": {
   "display_name": "Python 3",
   "language": "python",
   "name": "python3"
  },
  "language_info": {
   "codemirror_mode": {
    "name": "ipython",
    "version": 3
   },
   "file_extension": ".py",
   "mimetype": "text/x-python",
   "name": "python",
   "nbconvert_exporter": "python",
   "pygments_lexer": "ipython3",
   "version": "3.7.7"
  }
 },
 "nbformat": 4,
 "nbformat_minor": 4
}
